{
 "cells": [
  {
   "cell_type": "markdown",
   "id": "1893ee2f-df9f-4983-a4b2-6da24c0ea7a3",
   "metadata": {},
   "source": [
    "# Linear Regression\n",
    "The LinearRegression class in sklearn.linear_model implements Ordinary Least Squares (OLS) regression, fitting a linear model to minimize the residual sum of squares between observed target values and the predicted target values."
   ]
  },
  {
   "cell_type": "code",
   "execution_count": 1,
   "id": "de13ae2d-1629-4450-a3a5-eae36b55c4ac",
   "metadata": {},
   "outputs": [],
   "source": [
    "import numpy as np\n",
    "import pandas as pd"
   ]
  },
  {
   "cell_type": "code",
   "execution_count": 2,
   "id": "50a2e87e-4f4e-49e4-ad62-8878f7ae77fd",
   "metadata": {},
   "outputs": [],
   "source": [
    "class Linear_Regression:\n",
    "    def __init__(self,lr=0.001,n_iters=10000):\n",
    "        self.lr=lr\n",
    "        self.n_iters=n_iters\n",
    "        self.weights=None\n",
    "        self.bias=None\n",
    "\n",
    "    def fit(self,X,y):\n",
    "        self.n_samples,self.n_features=X.shape\n",
    "        self.weights=np.zeros(self.n_features)\n",
    "        self.bias=0\n",
    "        for i in range(self.n_iters):\n",
    "            y_pred=np.dot(X,self.weights)+self.bias\n",
    "            dw=(1.0/self.n_samples)*np.dot(X.T,(y_pred-y))\n",
    "            db=(1.0/self.n_samples)*np.sum(y_pred-y)\n",
    "            self.weights=self.weights-(self.lr*dw)\n",
    "            self.bias=self.bias-(self.lr*db)\n",
    "\n",
    "    def predict(self,X):\n",
    "        y_predict=np.dot(X,self.weights)+self.bias\n",
    "        return y_predict"
   ]
  },
  {
   "cell_type": "code",
   "execution_count": 3,
   "id": "cb6b6b6d-0f00-40a5-8daa-ee85f360ac1a",
   "metadata": {},
   "outputs": [],
   "source": [
    "raw_df = pd.read_csv(\"placement.csv\")\n",
    "data = raw_df[[\"cgpa\"]]\n",
    "target = raw_df[\"package\"]"
   ]
  },
  {
   "cell_type": "code",
   "execution_count": 4,
   "id": "1b9bd7a9-5c07-4619-b4ee-57a619eac401",
   "metadata": {},
   "outputs": [
    {
     "data": {
      "text/plain": [
       "<matplotlib.collections.PathCollection at 0x257d44924d0>"
      ]
     },
     "execution_count": 4,
     "metadata": {},
     "output_type": "execute_result"
    },
    {
     "data": {
      "image/png": "[encoded data removed]",
      "text/plain": [
       "<Figure size 640x480 with 1 Axes>"
      ]
     },
     "metadata": {},
     "output_type": "display_data"
    }
   ],
   "source": [
    "import matplotlib.pyplot as plt\n",
    "plt.scatter(data,target,color=\"black\")"
   ]
  },
  {
   "cell_type": "code",
   "execution_count": 5,
   "id": "5927f9e9-2220-45e2-bd3c-30af66e3c45f",
   "metadata": {},
   "outputs": [],
   "source": [
    "from sklearn.model_selection import train_test_split\n",
    "X_train,X_test,y_train,y_test=train_test_split(data,target,test_size=0.2,random_state=1234)"
   ]
  },
  {
   "cell_type": "code",
   "execution_count": 6,
   "id": "8e046f05-ef20-469c-b7ca-b18fada898c8",
   "metadata": {},
   "outputs": [
    {
     "name": "stdout",
     "output_type": "stream",
     "text": [
      "(160, 1) (40, 1) (160,)\n"
     ]
    }
   ],
   "source": [
    "print(X_train.shape,X_test.shape,y_train.shape)"
   ]
  },
  {
   "cell_type": "code",
   "execution_count": 7,
   "id": "0ac7a40f-31c8-4351-b540-ffbc31144da3",
   "metadata": {
    "scrolled": true
   },
   "outputs": [],
   "source": [
    "lr1=Linear_Regression()\n",
    "lr1.fit(X_train,y_train)\n",
    "predictions1=lr1.predict(X_test)"
   ]
  },
  {
   "cell_type": "code",
   "execution_count": 8,
   "id": "631108c3-1ff6-4cad-9685-72c41b539c8a",
   "metadata": {},
   "outputs": [
    {
     "data": {
      "text/plain": [
       "array([0.45342664])"
      ]
     },
     "execution_count": 8,
     "metadata": {},
     "output_type": "execute_result"
    }
   ],
   "source": [
    "lr1.weights"
   ]
  },
  {
   "cell_type": "code",
   "execution_count": 9,
   "id": "90360a07-6138-4475-b674-d6efc96c519d",
   "metadata": {},
   "outputs": [
    {
     "data": {
      "text/plain": [
       "-0.16487423394653633"
      ]
     },
     "execution_count": 9,
     "metadata": {},
     "output_type": "execute_result"
    }
   ],
   "source": [
    "lr1.bias"
   ]
  },
  {
   "cell_type": "code",
   "execution_count": 10,
   "id": "6ffc7c47-5b5d-48fa-ace9-348c92a95008",
   "metadata": {},
   "outputs": [
    {
     "data": {
      "text/plain": [
       "array([3.10433184, 2.76879613, 3.50788155, 3.74819767, 3.98851379,\n",
       "       3.26303116, 3.41266195, 2.89575558, 3.06352344, 3.35371649,\n",
       "       2.90028985, 2.94563252, 2.16120443, 2.72345346, 2.97737238,\n",
       "       3.00004371, 2.51487721, 3.07712624, 2.94109825, 3.28116823,\n",
       "       3.07259197, 2.87761852, 3.51241581, 4.03385645, 3.41719622,\n",
       "       2.29269815, 3.60310114, 2.39245201, 3.15874304, 4.08826765,\n",
       "       2.88668705, 1.90728551, 2.6917136 , 2.48313734, 2.14760163,\n",
       "       2.34257508, 2.91389265, 3.1360717 , 2.65543947, 2.97283811])"
      ]
     },
     "execution_count": 10,
     "metadata": {},
     "output_type": "execute_result"
    }
   ],
   "source": [
    "predictions1"
   ]
  },
  {
   "cell_type": "code",
   "execution_count": 11,
   "id": "23561ec4-8b53-42bc-b110-3059deb90c88",
   "metadata": {},
   "outputs": [],
   "source": [
    "mse=sum((predictions1-y_test)**2)"
   ]
  },
  {
   "cell_type": "code",
   "execution_count": 12,
   "id": "b66b8445-a206-48ed-b300-fe0c3b6105ac",
   "metadata": {},
   "outputs": [
    {
     "data": {
      "text/plain": [
       "4.634016117707481"
      ]
     },
     "execution_count": 12,
     "metadata": {},
     "output_type": "execute_result"
    }
   ],
   "source": [
    "mse"
   ]
  },
  {
   "cell_type": "code",
   "execution_count": 13,
   "id": "efd77417-00cc-4f0e-ba51-23108c4b8d48",
   "metadata": {},
   "outputs": [],
   "source": [
    "from sklearn.linear_model import LinearRegression"
   ]
  },
  {
   "cell_type": "code",
   "execution_count": 14,
   "id": "b6ef2d7c-f6a1-405f-a8bb-da5db9b450d6",
   "metadata": {},
   "outputs": [
    {
     "data": {
      "text/plain": [
       "array([3.1125252 , 2.68194848, 3.63038097, 3.938767  , 4.24715303,\n",
       "       3.31617634, 3.50819029, 2.8448694 , 3.06015776, 3.43254843,\n",
       "       2.850688  , 2.90887405, 1.90225551, 2.62376244, 2.94960428,\n",
       "       2.9786973 , 2.35610664, 3.07761357, 2.90305544, 3.33945076,\n",
       "       3.07179497, 2.82159498, 3.63619958, 4.30533907, 3.51400889,\n",
       "       2.07099503, 3.75257166, 2.19900433, 3.18234845, 4.37516232,\n",
       "       2.83323219, 1.57641367, 2.58303221, 2.31537641, 1.8847997 ,\n",
       "       2.13499968, 2.86814382, 3.15325542, 2.53648337, 2.94378567])"
      ]
     },
     "execution_count": 14,
     "metadata": {},
     "output_type": "execute_result"
    }
   ],
   "source": [
    "lr=LinearRegression()\n",
    "lr.fit(X_train,y_train)\n",
    "predictions=lr.predict(X_test)\n",
    "predictions"
   ]
  },
  {
   "cell_type": "markdown",
   "id": "f7c87cea-5f98-4c45-8853-2c7d00fd5eb5",
   "metadata": {},
   "source": [
    "## Key Parameters:\n",
    "- fit_intercept (bool, default=True): Determines whether to calculate the intercept. If set to False, the data is expected to be centered, and no intercept is used.\n",
    "- copy_X (bool, default=True): Specifies whether the training data X is copied. If set to False, it may overwrite the input data.\n",
    "- n_jobs (int, default=None): Specifies the number of jobs (parallel computations) used in the training. None means using one processor, while -1 uses all available processors.\n",
    "- positive (bool, default=False): Ensures that the coefficients are positive. This option is only applicable for dense input arrays."
   ]
  },
  {
   "cell_type": "markdown",
   "id": "05267662-cf12-4c16-9c06-52bb654c7820",
   "metadata": {},
   "source": [
    "## Attributes:\n",
    "- coef_: Coefficients of the features in the linear model. It’s a 1D array for single-target regression and a 2D array for multi-target regression.\n",
    "- intercept_: The intercept term in the model.\n",
    "- rank_: The rank of the matrix X (available when X is dense).\n",
    "- singular_: Singular values of X (available when X is dense).\n",
    "- n_features_in_: The number of features seen during model fitting.\n",
    "- feature_names_in_: The names of the features seen during model fitting, defined if X has feature names."
   ]
  },
  {
   "cell_type": "markdown",
   "id": "bfdeaf15-5367-4e98-bdf1-0a6f89ec597d",
   "metadata": {},
   "source": [
    "## Methods:\n",
    "- fit(X, y): Fits the linear model to the training data X and target values y.\n",
    "- predict(X): Predicts target values for given input data X based on the fitted model.\n",
    "- score(X, y): Returns the coefficient of determination R2(R square) of the prediction, indicating the model’s accuracy.\n",
    "- get_params(): Returns the parameters of the estimator.\n",
    "- set_params(): Sets the parameters of the estimator."
   ]
  },
  {
   "cell_type": "code",
   "execution_count": 15,
   "id": "66c82bed-544c-4286-a921-5122c00848d9",
   "metadata": {},
   "outputs": [
    {
     "data": {
      "text/plain": [
       "4.607371945475401"
      ]
     },
     "execution_count": 15,
     "metadata": {},
     "output_type": "execute_result"
    }
   ],
   "source": [
    "sum((predictions-y_test)**2)"
   ]
  },
  {
   "cell_type": "code",
   "execution_count": 16,
   "id": "9b45594e-a27e-4adc-8b18-3f86db449994",
   "metadata": {},
   "outputs": [
    {
     "data": {
      "text/plain": [
       "array([0.58186043])"
      ]
     },
     "execution_count": 16,
     "metadata": {},
     "output_type": "execute_result"
    }
   ],
   "source": [
    "lr.coef_"
   ]
  },
  {
   "cell_type": "code",
   "execution_count": 17,
   "id": "098970b8-4ba1-4d8f-a6ff-8df0a5d62b8c",
   "metadata": {},
   "outputs": [
    {
     "data": {
      "text/plain": [
       "-1.0826884800991223"
      ]
     },
     "execution_count": 17,
     "metadata": {},
     "output_type": "execute_result"
    }
   ],
   "source": [
    "lr.intercept_"
   ]
  },
  {
   "cell_type": "code",
   "execution_count": 18,
   "id": "578125ae-96d8-489b-9b6a-20ef0f02f3f4",
   "metadata": {},
   "outputs": [
    {
     "data": {
      "text/plain": [
       "[<matplotlib.lines.Line2D at 0x257e6731e90>]"
      ]
     },
     "execution_count": 18,
     "metadata": {},
     "output_type": "execute_result"
    },
    {
     "data": {
      "image/png": "[encoded data removed]",
      "text/plain": [
       "<Figure size 640x480 with 1 Axes>"
      ]
     },
     "metadata": {},
     "output_type": "display_data"
    }
   ],
   "source": [
    "plt.scatter(X_train,y_train,color=\"black\")\n",
    "plt.plot(X_test,predictions1,color=\"blue\",linewidth=3)\n",
    "plt.plot(X_test,predictions,color=\"red\",linewidth=3)"
   ]
  },
  {
   "cell_type": "markdown",
   "id": "a86872d4-8f52-46d9-9a2b-f3877ec06749",
   "metadata": {},
   "source": [
    "### Example: python\n",
    "import numpy as np<br>\n",
    "from sklearn.linear_model import LinearRegression\n",
    "\n",
    "#### Input data\n",
    "X = np.array([[1, 1], [1, 2], [2, 2], [2, 3]])<br>\n",
    "y = np.dot(X, np.array([1, 2])) + 3  # y = 1 * x0 + 2 * x1 + 3\n",
    "\n",
    "#### Linear Regression model\n",
    "reg = LinearRegression().fit(X, y)\n",
    "\n",
    "#### Get model parameters\n",
    "print(reg.coef_)        # Output: array([1., 2.])<br>\n",
    "print(reg.intercept_)    # Output: 3.0\n",
    "\n",
    "#### Predict for new data\n",
    "print(reg.predict(np.array([[3, 5]])))  # Output: 16."
   ]
  },
  {
   "cell_type": "code",
   "execution_count": 19,
   "id": "630e21ed-a19d-42bc-a066-0b5aa24e0672",
   "metadata": {},
   "outputs": [],
   "source": [
    "from sklearn import datasets\n",
    "X, y = datasets.make_regression(n_samples=100, n_features=1, noise=20, random_state=4)\n",
    "X_train, X_test, y_train, y_test = train_test_split(X, y, test_size=0.2, random_state=1234)"
   ]
  },
  {
   "cell_type": "code",
   "execution_count": 20,
   "id": "64379c4a-1f05-4f02-9faa-cbe9c2b3775f",
   "metadata": {},
   "outputs": [],
   "source": [
    "lr1=Linear_Regression()\n",
    "lr1.fit(X_train,y_train)\n",
    "predictions1=lr1.predict(X_test)"
   ]
  },
  {
   "cell_type": "code",
   "execution_count": 21,
   "id": "995cfb19-09a8-43c6-921e-2b565ee118c8",
   "metadata": {},
   "outputs": [
    {
     "data": {
      "text/plain": [
       "array([  90.07601829,   65.22031659,  -45.69254375,  -82.48773386,\n",
       "         20.93882428,  -73.92154227,  -14.9088067 ,  151.65238413,\n",
       "         14.01724794, -102.29086363,   15.56845768,   41.60336302,\n",
       "         26.20270783,   38.12027319,   37.38265591,  -37.35613451,\n",
       "        -83.12287222,   26.30375187,   38.13085076,   29.45249968])"
      ]
     },
     "execution_count": 21,
     "metadata": {},
     "output_type": "execute_result"
    }
   ],
   "source": [
    "predictions1"
   ]
  },
  {
   "cell_type": "code",
   "execution_count": 22,
   "id": "c05855a0-27aa-411b-bcce-8d480b2e75fb",
   "metadata": {},
   "outputs": [
    {
     "data": {
      "text/plain": [
       "6115.437585465633"
      ]
     },
     "execution_count": 22,
     "metadata": {},
     "output_type": "execute_result"
    }
   ],
   "source": [
    "sum((predictions1-y_test)**2)"
   ]
  },
  {
   "cell_type": "code",
   "execution_count": 23,
   "id": "64b993c1-0cca-4bb5-bc95-09b25e8834e5",
   "metadata": {},
   "outputs": [
    {
     "data": {
      "text/plain": [
       "array([  90.07911876,   65.22240306,  -45.69498196,  -82.49167314,\n",
       "         20.9391043 ,  -73.92513208,  -14.90998909,  151.6579966 ,\n",
       "         14.01724558, -102.29561077,   15.56851861,   41.60448604,\n",
       "         26.20320259,   38.12125412,   37.38360675,  -37.35823263,\n",
       "        -83.1268374 ,   26.30425075,   38.13183212,   29.45312701])"
      ]
     },
     "execution_count": 23,
     "metadata": {},
     "output_type": "execute_result"
    }
   ],
   "source": [
    "lr=LinearRegression()\n",
    "lr.fit(X_train,y_train)\n",
    "predictions=lr.predict(X_test)\n",
    "predictions"
   ]
  },
  {
   "cell_type": "code",
   "execution_count": 24,
   "id": "baa9459b-f7bf-4223-94ea-6b6d84c4e1ef",
   "metadata": {},
   "outputs": [
    {
     "data": {
      "text/plain": [
       "6115.482632457284"
      ]
     },
     "execution_count": 24,
     "metadata": {},
     "output_type": "execute_result"
    }
   ],
   "source": [
    "sum((predictions-y_test)**2)"
   ]
  },
  {
   "cell_type": "code",
   "execution_count": 25,
   "id": "a3758f51-38f3-4e52-9bde-f97dc1936bfa",
   "metadata": {},
   "outputs": [
    {
     "data": {
      "text/plain": [
       "array([  89.5978923 ,   33.21708479,  -58.51318402,  -82.91713341,\n",
       "         40.69772522, -100.73717846,   -1.65856494,  163.94385144,\n",
       "          5.26394625,  -77.78704394,    9.20267903,   36.86598297,\n",
       "         -5.54348338,   31.43120085,   64.53968736,  -44.1299115 ,\n",
       "        -74.76820338,   50.92876904,   28.14443518,   17.68768961])"
      ]
     },
     "execution_count": 25,
     "metadata": {},
     "output_type": "execute_result"
    }
   ],
   "source": [
    "y_test"
   ]
  },
  {
   "cell_type": "code",
   "execution_count": 26,
   "id": "806fb65e-cd7f-4371-ab62-01a00004d352",
   "metadata": {},
   "outputs": [
    {
     "data": {
      "text/plain": [
       "[<matplotlib.lines.Line2D at 0x257e6bbb810>]"
      ]
     },
     "execution_count": 26,
     "metadata": {},
     "output_type": "execute_result"
    },
    {
     "data": {
      "image/png": "[encoded data removed]",
      "text/plain": [
       "<Figure size 640x480 with 1 Axes>"
      ]
     },
     "metadata": {},
     "output_type": "display_data"
    }
   ],
   "source": [
    "plt.scatter(X,y,color=\"black\")\n",
    "plt.plot(X_test,predictions1,color=\"blue\",linewidth=3)\n",
    "plt.plot(X_test,predictions,color=\"red\",linewidth=3)"
   ]
  }
 ],
 "metadata": {
  "kernelspec": {
   "display_name": "Python 3 (ipykernel)",
   "language": "python",
   "name": "python3"
  },
  "language_info": {
   "codemirror_mode": {
    "name": "ipython",
    "version": 3
   },
   "file_extension": ".py",
   "mimetype": "text/x-python",
   "name": "python",
   "nbconvert_exporter": "python",
   "pygments_lexer": "ipython3",
   "version": "3.11.0"
  }
 },
 "nbformat": 4,
 "nbformat_minor": 5
}
