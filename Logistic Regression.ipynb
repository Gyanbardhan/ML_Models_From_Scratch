{
 "cells": [
  {
   "cell_type": "markdown",
   "id": "adc92545-e21d-4c82-a428-4efb12326c55",
   "metadata": {},
   "source": [
    "# Logistic Regression\n",
    "The LogisticRegression class in sklearn implements regularized logistic regression, capable of handling both binary and multiclass classification. It includes support for various optimization solvers (lbfgs, liblinear, newton-cg, etc.) and penalty terms (L1, L2, ElasticNet). The choice of solver depends on the nature of the data, and regularization strength is controlled via the C parameter."
   ]
  },
  {
   "cell_type": "code",
   "execution_count": 1,
   "id": "ddacea90-6e25-4b06-8ba1-c4cfefaf8be4",
   "metadata": {},
   "outputs": [],
   "source": [
    "import warnings \n",
    "warnings.filterwarnings( \"ignore\" ) "
   ]
  },
  {
   "cell_type": "code",
   "execution_count": 2,
   "id": "3f7d932d-3122-42ee-b2b8-adb577a09b61",
   "metadata": {},
   "outputs": [],
   "source": [
    "import numpy as np\n",
    "import pandas as pd"
   ]
  },
  {
   "cell_type": "code",
   "execution_count": 105,
   "id": "afbd5de3-173a-4b98-9c56-bb44a3d78cc1",
   "metadata": {},
   "outputs": [],
   "source": [
    "class Logistic_Regression:\n",
    "    def __init__(self,lr=0.001,n_iters=1000):\n",
    "        self.lr=lr\n",
    "        self.n_iters=n_iters\n",
    "        self.weights=None\n",
    "        self.bias=None\n",
    "\n",
    "    def fit(self,X,y):\n",
    "        n_samples,n_features=X.shape\n",
    "        self.weights=np.zeros(n_features)\n",
    "        self.bias=0\n",
    "        for i in range(n_samples):\n",
    "            y_pred=1/(1+np.exp(-(np.dot(X,self.weights)+self.bias)))\n",
    "            dw=np.dot(X.T,(y_pred-y))/n_samples\n",
    "            db=np.sum(y_pred-y)/n_samples\n",
    "            self.weights=self.weights-self.lr*dw\n",
    "            self.bias=self.bias-self.lr*db\n",
    "            \n",
    "\n",
    "    def predict(self,X):\n",
    "        y= 1/(1+np.exp(-(np.dot(X,self.weights)+self.bias)))\n",
    "        return [0 if y_<=0.5 else 1 for y_ in y]"
   ]
  },
  {
   "cell_type": "code",
   "execution_count": 128,
   "id": "898f5fd6-bec7-4636-ab15-d8dd97b6c41c",
   "metadata": {},
   "outputs": [],
   "source": [
    "df=pd.read_csv(\"diabetes.csv\")\n",
    "X=df.drop(columns=[\"Outcome\"])\n",
    "y=df[\"Outcome\"]"
   ]
  },
  {
   "cell_type": "code",
   "execution_count": 152,
   "id": "35e37530-ca24-41a3-aa7a-8cb3233904c0",
   "metadata": {},
   "outputs": [
    {
     "data": {
      "text/html": [
       "<div>\n",
       "<style scoped>\n",
       "    .dataframe tbody tr th:only-of-type {\n",
       "        vertical-align: middle;\n",
       "    }\n",
       "\n",
       "    .dataframe tbody tr th {\n",
       "        vertical-align: top;\n",
       "    }\n",
       "\n",
       "    .dataframe thead th {\n",
       "        text-align: right;\n",
       "    }\n",
       "</style>\n",
       "<table border=\"1\" class=\"dataframe\">\n",
       "  <thead>\n",
       "    <tr style=\"text-align: right;\">\n",
       "      <th></th>\n",
       "      <th>Pregnancies</th>\n",
       "      <th>Glucose</th>\n",
       "      <th>BloodPressure</th>\n",
       "      <th>SkinThickness</th>\n",
       "      <th>Insulin</th>\n",
       "      <th>BMI</th>\n",
       "      <th>DiabetesPedigreeFunction</th>\n",
       "      <th>Age</th>\n",
       "      <th>Outcome</th>\n",
       "    </tr>\n",
       "  </thead>\n",
       "  <tbody>\n",
       "    <tr>\n",
       "      <th>0</th>\n",
       "      <td>6</td>\n",
       "      <td>148</td>\n",
       "      <td>72</td>\n",
       "      <td>35</td>\n",
       "      <td>0</td>\n",
       "      <td>33.6</td>\n",
       "      <td>0.627</td>\n",
       "      <td>50</td>\n",
       "      <td>1</td>\n",
       "    </tr>\n",
       "    <tr>\n",
       "      <th>1</th>\n",
       "      <td>1</td>\n",
       "      <td>85</td>\n",
       "      <td>66</td>\n",
       "      <td>29</td>\n",
       "      <td>0</td>\n",
       "      <td>26.6</td>\n",
       "      <td>0.351</td>\n",
       "      <td>31</td>\n",
       "      <td>0</td>\n",
       "    </tr>\n",
       "    <tr>\n",
       "      <th>2</th>\n",
       "      <td>8</td>\n",
       "      <td>183</td>\n",
       "      <td>64</td>\n",
       "      <td>0</td>\n",
       "      <td>0</td>\n",
       "      <td>23.3</td>\n",
       "      <td>0.672</td>\n",
       "      <td>32</td>\n",
       "      <td>1</td>\n",
       "    </tr>\n",
       "    <tr>\n",
       "      <th>3</th>\n",
       "      <td>1</td>\n",
       "      <td>89</td>\n",
       "      <td>66</td>\n",
       "      <td>23</td>\n",
       "      <td>94</td>\n",
       "      <td>28.1</td>\n",
       "      <td>0.167</td>\n",
       "      <td>21</td>\n",
       "      <td>0</td>\n",
       "    </tr>\n",
       "    <tr>\n",
       "      <th>4</th>\n",
       "      <td>0</td>\n",
       "      <td>137</td>\n",
       "      <td>40</td>\n",
       "      <td>35</td>\n",
       "      <td>168</td>\n",
       "      <td>43.1</td>\n",
       "      <td>2.288</td>\n",
       "      <td>33</td>\n",
       "      <td>1</td>\n",
       "    </tr>\n",
       "    <tr>\n",
       "      <th>...</th>\n",
       "      <td>...</td>\n",
       "      <td>...</td>\n",
       "      <td>...</td>\n",
       "      <td>...</td>\n",
       "      <td>...</td>\n",
       "      <td>...</td>\n",
       "      <td>...</td>\n",
       "      <td>...</td>\n",
       "      <td>...</td>\n",
       "    </tr>\n",
       "    <tr>\n",
       "      <th>763</th>\n",
       "      <td>10</td>\n",
       "      <td>101</td>\n",
       "      <td>76</td>\n",
       "      <td>48</td>\n",
       "      <td>180</td>\n",
       "      <td>32.9</td>\n",
       "      <td>0.171</td>\n",
       "      <td>63</td>\n",
       "      <td>0</td>\n",
       "    </tr>\n",
       "    <tr>\n",
       "      <th>764</th>\n",
       "      <td>2</td>\n",
       "      <td>122</td>\n",
       "      <td>70</td>\n",
       "      <td>27</td>\n",
       "      <td>0</td>\n",
       "      <td>36.8</td>\n",
       "      <td>0.340</td>\n",
       "      <td>27</td>\n",
       "      <td>0</td>\n",
       "    </tr>\n",
       "    <tr>\n",
       "      <th>765</th>\n",
       "      <td>5</td>\n",
       "      <td>121</td>\n",
       "      <td>72</td>\n",
       "      <td>23</td>\n",
       "      <td>112</td>\n",
       "      <td>26.2</td>\n",
       "      <td>0.245</td>\n",
       "      <td>30</td>\n",
       "      <td>0</td>\n",
       "    </tr>\n",
       "    <tr>\n",
       "      <th>766</th>\n",
       "      <td>1</td>\n",
       "      <td>126</td>\n",
       "      <td>60</td>\n",
       "      <td>0</td>\n",
       "      <td>0</td>\n",
       "      <td>30.1</td>\n",
       "      <td>0.349</td>\n",
       "      <td>47</td>\n",
       "      <td>1</td>\n",
       "    </tr>\n",
       "    <tr>\n",
       "      <th>767</th>\n",
       "      <td>1</td>\n",
       "      <td>93</td>\n",
       "      <td>70</td>\n",
       "      <td>31</td>\n",
       "      <td>0</td>\n",
       "      <td>30.4</td>\n",
       "      <td>0.315</td>\n",
       "      <td>23</td>\n",
       "      <td>0</td>\n",
       "    </tr>\n",
       "  </tbody>\n",
       "</table>\n",
       "<p>768 rows × 9 columns</p>\n",
       "</div>"
      ],
      "text/plain": [
       "     Pregnancies  Glucose  BloodPressure  SkinThickness  Insulin   BMI  \\\n",
       "0              6      148             72             35        0  33.6   \n",
       "1              1       85             66             29        0  26.6   \n",
       "2              8      183             64              0        0  23.3   \n",
       "3              1       89             66             23       94  28.1   \n",
       "4              0      137             40             35      168  43.1   \n",
       "..           ...      ...            ...            ...      ...   ...   \n",
       "763           10      101             76             48      180  32.9   \n",
       "764            2      122             70             27        0  36.8   \n",
       "765            5      121             72             23      112  26.2   \n",
       "766            1      126             60              0        0  30.1   \n",
       "767            1       93             70             31        0  30.4   \n",
       "\n",
       "     DiabetesPedigreeFunction  Age  Outcome  \n",
       "0                       0.627   50        1  \n",
       "1                       0.351   31        0  \n",
       "2                       0.672   32        1  \n",
       "3                       0.167   21        0  \n",
       "4                       2.288   33        1  \n",
       "..                        ...  ...      ...  \n",
       "763                     0.171   63        0  \n",
       "764                     0.340   27        0  \n",
       "765                     0.245   30        0  \n",
       "766                     0.349   47        1  \n",
       "767                     0.315   23        0  \n",
       "\n",
       "[768 rows x 9 columns]"
      ]
     },
     "execution_count": 152,
     "metadata": {},
     "output_type": "execute_result"
    }
   ],
   "source": [
    "df"
   ]
  },
  {
   "cell_type": "code",
   "execution_count": 129,
   "id": "257123cc-579b-41a2-9b4a-8fe65d549839",
   "metadata": {},
   "outputs": [],
   "source": [
    "from sklearn.model_selection import train_test_split\n",
    "X_train,X_test,y_train,y_test=train_test_split(X,y,test_size=0.2,random_state=1234)"
   ]
  },
  {
   "cell_type": "code",
   "execution_count": 130,
   "id": "2e8ed37c-c8d8-460e-a449-8a174fee8c19",
   "metadata": {},
   "outputs": [],
   "source": [
    "lr=Logistic_Regression()\n",
    "lr.fit(X_train,y_train)\n",
    "predictions=lr.predict(X_test)"
   ]
  },
  {
   "cell_type": "code",
   "execution_count": 131,
   "id": "eee69ed9-f25b-497e-8c94-6da3d6d2ad2e",
   "metadata": {},
   "outputs": [
    {
     "data": {
      "text/plain": [
       "array([ 0.1087906 ,  0.06818568, -0.0817432 , -0.02725345,  0.02334304,\n",
       "        0.00343248,  0.00438369,  0.00429227])"
      ]
     },
     "execution_count": 131,
     "metadata": {},
     "output_type": "execute_result"
    }
   ],
   "source": [
    "lr.weights"
   ]
  },
  {
   "cell_type": "code",
   "execution_count": 132,
   "id": "60975f3b-8025-4503-9dfd-e3c823c2d6d1",
   "metadata": {},
   "outputs": [
    {
     "data": {
      "text/plain": [
       "-0.022507759904298274"
      ]
     },
     "execution_count": 132,
     "metadata": {},
     "output_type": "execute_result"
    }
   ],
   "source": [
    "lr.bias"
   ]
  },
  {
   "cell_type": "code",
   "execution_count": 139,
   "id": "458f26b7-faaf-42fb-b2d3-f7e3043d9106",
   "metadata": {},
   "outputs": [
    {
     "data": {
      "text/plain": [
       "array([1, 1, 1, 1, 1, 1, 1, 1, 1, 1, 1, 1, 1, 1, 1, 1, 1, 1, 1, 1, 1, 1,\n",
       "       1, 1, 1, 1, 1, 1, 1, 1, 1, 1, 1, 1, 1, 1, 1, 0, 1, 0, 0, 1, 1, 1,\n",
       "       1, 1, 1, 0, 1, 1, 1, 1, 1, 1, 1, 1, 1, 1, 1, 1, 1, 1, 1, 1, 1, 1,\n",
       "       1, 1, 0, 1, 1, 1, 1, 1, 1, 1, 1, 1, 0, 1, 1, 1, 1, 1, 1, 1, 1, 1,\n",
       "       1, 1, 1, 1, 1, 1, 1, 1, 1, 1, 1, 1, 1, 1, 1, 1, 0, 0, 1, 1, 1, 1,\n",
       "       1, 1, 1, 0, 1, 1, 1, 1, 1, 1, 1, 1, 1, 1, 1, 1, 1, 1, 0, 1, 1, 1,\n",
       "       1, 1, 1, 1, 1, 1, 1, 1, 1, 1, 1, 1, 1, 1, 1, 1, 1, 1, 1, 1, 1, 1])"
      ]
     },
     "execution_count": 139,
     "metadata": {},
     "output_type": "execute_result"
    }
   ],
   "source": [
    "predictions=np.array(predictions)\n",
    "predictions"
   ]
  },
  {
   "cell_type": "code",
   "execution_count": 146,
   "id": "c3307e9b-8d7c-4cd6-bb2d-ea9d794176c8",
   "metadata": {},
   "outputs": [],
   "source": [
    "y_test=np.array(y_test)"
   ]
  },
  {
   "cell_type": "code",
   "execution_count": 147,
   "id": "8b7b4804-25a1-4705-8382-bf2b46686a95",
   "metadata": {},
   "outputs": [
    {
     "data": {
      "text/plain": [
       "array([0, 0, 1, 1, 0, 0, 0, 0, 1, 0, 1, 0, 0, 0, 0, 0, 1, 1, 0, 1, 1, 1,\n",
       "       0, 1, 0, 0, 0, 1, 0, 0, 0, 0, 1, 1, 1, 0, 1, 0, 0, 0, 0, 0, 1, 0,\n",
       "       0, 0, 0, 1, 0, 0, 1, 0, 1, 0, 1, 0, 0, 0, 0, 1, 1, 1, 0, 0, 0, 0,\n",
       "       0, 0, 0, 0, 0, 1, 0, 0, 1, 0, 0, 0, 0, 0, 1, 1, 1, 1, 0, 0, 0, 0,\n",
       "       0, 0, 0, 1, 0, 0, 0, 1, 0, 0, 0, 1, 1, 1, 0, 0, 0, 1, 1, 1, 0, 1,\n",
       "       0, 0, 1, 1, 0, 0, 1, 1, 0, 0, 0, 1, 1, 0, 1, 1, 0, 0, 0, 0, 0, 0,\n",
       "       1, 1, 0, 0, 0, 1, 0, 0, 1, 0, 0, 0, 1, 1, 1, 0, 0, 0, 1, 0, 1, 0],\n",
       "      dtype=int64)"
      ]
     },
     "execution_count": 147,
     "metadata": {},
     "output_type": "execute_result"
    }
   ],
   "source": [
    "y_test"
   ]
  },
  {
   "cell_type": "code",
   "execution_count": 148,
   "id": "a8e69086-897d-46be-8267-e04457d43ea4",
   "metadata": {},
   "outputs": [
    {
     "name": "stdout",
     "output_type": "stream",
     "text": [
      "0.38311688311688313\n"
     ]
    }
   ],
   "source": [
    "x=0\n",
    "for i in range(len(predictions)):\n",
    "    if y_test[i]==predictions[i]:\n",
    "        x+=1\n",
    "print(x/len(predictions))"
   ]
  },
  {
   "cell_type": "markdown",
   "id": "433d1583-e31d-4265-894b-0ebbf9ae9eb3",
   "metadata": {},
   "source": [
    "### Key Parameters:\n",
    "- penalty ({'l1', 'l2', 'elasticnet', None}): Specifies the norm of the penalty (regularization term).<br>\n",
    "    None: No penalty.<br>\n",
    "    L1: Sparsity-inducing penalty.<br>\n",
    "    L2: Default option, minimizes the squared magnitude of coefficients.<br>\n",
    "    ElasticNet: Combination of L1 and L2.\n",
    "- dual (bool, default=False): Dual formulation, only for l2 penalty with the liblinear solver.\n",
    "\n",
    "- tol (float, default=1e-4): Tolerance for stopping criteria.\n",
    "\n",
    "- C (float, default=1.0): Inverse of regularization strength, smaller values indicate stronger regularization.\n",
    "\n",
    "- fit_intercept (bool, default=True): Specifies if a constant should be added to the decision function.\n",
    "\n",
    "- class_weight (dict or 'balanced', default=None): Adjusts weights inversely proportional to class frequencies.\n",
    "\n",
    "- solver ({'lbfgs', 'liblinear', 'newton-cg', 'sag', 'saga', etc.}, default='lbfgs'): Optimization algorithm to use.<br>\n",
    "    'liblinear': Suitable for small datasets and binary classification.<br>\n",
    "    'lbfgs', 'newton-cg', 'saga': Handle multiclass problems.\n",
    "- max_iter (int, default=100): Maximum iterations for the solver to converge.\n",
    "\n",
    "- multi_class ({'auto', 'ovr', 'multinomial'}, default='auto'): Defines how to handle multiclass problems.<br>\n",
    "    ovr: One-vs-Rest scheme.<br>\n",
    "    multinomial: Minimizes cross-entropy loss across all classes.\n"
   ]
  },
  {
   "cell_type": "code",
   "execution_count": 140,
   "id": "338a6fb9-b071-4a93-9b92-9038626f3a3d",
   "metadata": {},
   "outputs": [],
   "source": [
    "from sklearn.linear_model import LogisticRegression\n",
    "lr1=LogisticRegression()\n",
    "lr1.fit(X_train,y_train)\n",
    "predictions1=lr1.predict(X_test)"
   ]
  },
  {
   "cell_type": "code",
   "execution_count": 141,
   "id": "8769d9d3-3b6c-4e0e-bebf-0b21579665a5",
   "metadata": {},
   "outputs": [
    {
     "data": {
      "text/plain": [
       "array([0, 1, 0, 0, 0, 1, 0, 0, 1, 0, 1, 0, 0, 0, 0, 0, 1, 0, 0, 0, 1, 1,\n",
       "       0, 1, 0, 0, 0, 1, 0, 0, 0, 0, 1, 1, 1, 1, 0, 0, 0, 0, 0, 0, 1, 0,\n",
       "       0, 0, 0, 0, 0, 0, 1, 1, 1, 0, 1, 0, 0, 0, 0, 0, 1, 0, 0, 0, 0, 0,\n",
       "       0, 0, 0, 0, 1, 0, 0, 0, 0, 1, 0, 0, 0, 0, 0, 1, 1, 0, 0, 1, 0, 0,\n",
       "       0, 0, 0, 1, 0, 0, 0, 1, 0, 0, 0, 1, 0, 1, 0, 0, 0, 0, 1, 1, 1, 1,\n",
       "       0, 0, 0, 0, 0, 0, 0, 1, 0, 0, 0, 1, 1, 0, 0, 0, 0, 0, 0, 0, 0, 0,\n",
       "       0, 0, 0, 0, 0, 0, 0, 0, 0, 0, 0, 0, 0, 0, 1, 0, 0, 0, 1, 0, 0, 1],\n",
       "      dtype=int64)"
      ]
     },
     "execution_count": 141,
     "metadata": {},
     "output_type": "execute_result"
    }
   ],
   "source": [
    "predictions1"
   ]
  },
  {
   "cell_type": "code",
   "execution_count": 149,
   "id": "a893c46b-3259-4174-a76c-eb5362b3b8ef",
   "metadata": {},
   "outputs": [
    {
     "name": "stdout",
     "output_type": "stream",
     "text": [
      "0.7727272727272727\n"
     ]
    }
   ],
   "source": [
    "x=0\n",
    "for i in range(len(predictions1)):\n",
    "    if y_test[i]==predictions1[i]:\n",
    "        x+=1\n",
    "print(x/len(predictions1))"
   ]
  },
  {
   "cell_type": "markdown",
   "id": "9e47393e-9b2c-4ebc-88bd-16f4403810e0",
   "metadata": {},
   "source": [
    "### Example: python\n",
    "from sklearn.datasets import load_iris<br>\n",
    "from sklearn.linear_model import LogisticRegression\n",
    "\n",
    "- Load sample data<br>\n",
    "X, y = load_iris(return_X_y=True)\n",
    "\n",
    "- Create LogisticRegression model and fit<br>\n",
    "clf = LogisticRegression(random_state=0).fit(X, y)\n",
    "\n",
    "- Predict<br>\n",
    "predictions = clf.predict(X[:2, :])<br>\n",
    "proba = clf.predict_proba(X[:2, :])<br>\n",
    "print(predictions)<br>\n",
    "print(proba)<br>"
   ]
  },
  {
   "cell_type": "markdown",
   "id": "09dccb27-b206-4a1f-aca1-788caa05ea72",
   "metadata": {},
   "source": [
    "### Important Notes:\n",
    "- Solvers Compatibility: Not all solvers support all penalties. For instance, liblinear only supports l1 and l2 penalties and is limited to binary classification.\n",
    "\n",
    "- Regularization: Default penalty='l2'. Stronger regularization (lower C values) helps prevent overfitting.\n",
    "\n",
    "### Attributes:\n",
    "- coef_: Weights assigned to the features.\n",
    "- intercept_: Bias term.\n",
    "- n_iter_: Number of iterations performed by the solver.\n",
    "\n",
    "This class is particularly flexible due to its various solvers and regularization options, making it useful for both small and large datasets."
   ]
  }
 ],
 "metadata": {
  "kernelspec": {
   "display_name": "Python 3 (ipykernel)",
   "language": "python",
   "name": "python3"
  },
  "language_info": {
   "codemirror_mode": {
    "name": "ipython",
    "version": 3
   },
   "file_extension": ".py",
   "mimetype": "text/x-python",
   "name": "python",
   "nbconvert_exporter": "python",
   "pygments_lexer": "ipython3",
   "version": "3.11.0"
  }
 },
 "nbformat": 4,
 "nbformat_minor": 5
}
